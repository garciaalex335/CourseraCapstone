{
 "cells": [
  {
   "cell_type": "markdown",
   "metadata": {},
   "source": [
    "# Opening a Coffee Shop in Seattle"
   ]
  },
  {
   "cell_type": "markdown",
   "metadata": {},
   "source": [
    "## Introduction"
   ]
  },
  {
   "cell_type": "markdown",
   "metadata": {},
   "source": [
    "   Seattle is a Mecca for coffee. There are many options for customers and fierce competition among providers."
   ]
  },
  {
   "cell_type": "markdown",
   "metadata": {},
   "source": [
    "   This notebook will be looking to determine which neighborhood would be the optimal place to open a new cafe. It will leverage the data provided by the Foursquare API among other data sources to compare various possible neighborhoods. "
   ]
  },
  {
   "cell_type": "markdown",
   "metadata": {},
   "source": [
    "## Data Required"
   ]
  },
  {
   "cell_type": "markdown",
   "metadata": {},
   "source": [
    "We will start by developing a dataset to represent the various neighborhoods of Seattle, potentially divided by zip code.\n",
    "\n",
    "The most important data will be the locations of coffee shops alrady in operation. We want to find an area that is not overly saturated. This will help limit the areas that are considered. Starbucks locations will be of particular interest as Seattle is where this beheamoth was founded. "
   ]
  },
  {
   "cell_type": "markdown",
   "metadata": {},
   "source": [
    "Additionally, we will want to analyze other locations that are nearby. Foot traffic is incredibly important to the viability of a coffee shop. What areas have other venues that will attract people to the area?"
   ]
  },
  {
   "cell_type": "markdown",
   "metadata": {},
   "source": [
    "If possible, we will want to find another data source that will give us insight into the residential versus commercial nature of various neighborhoods. Other valueable data could be statistics covering income. If we cannot find income data that is adequate, housing prices like those found in an earlier module could serve as an effective approximation. "
   ]
  },
  {
   "cell_type": "code",
   "execution_count": null,
   "metadata": {},
   "outputs": [],
   "source": []
  }
 ],
 "metadata": {
  "kernelspec": {
   "display_name": "Python 3",
   "language": "python",
   "name": "python3"
  },
  "language_info": {
   "codemirror_mode": {
    "name": "ipython",
    "version": 3
   },
   "file_extension": ".py",
   "mimetype": "text/x-python",
   "name": "python",
   "nbconvert_exporter": "python",
   "pygments_lexer": "ipython3",
   "version": "3.7.4"
  }
 },
 "nbformat": 4,
 "nbformat_minor": 2
}
